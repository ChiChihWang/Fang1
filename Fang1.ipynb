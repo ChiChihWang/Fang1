{
 "cells": [
  {
   "cell_type": "markdown",
   "metadata": {},
   "source": [
    "# #3"
   ]
  },
  {
   "cell_type": "code",
   "execution_count": 1,
   "metadata": {},
   "outputs": [],
   "source": [
    "scores_list = [('Tina', 60, 70, 130), \n",
    "               ('Tony', 80, 80, 160),\n",
    "               ('Mary', 70, 85, 155),\n",
    "              ]"
   ]
  },
  {
   "cell_type": "code",
   "execution_count": 2,
   "metadata": {},
   "outputs": [],
   "source": [
    "sorted_scores_list \\\n",
    "= sorted(scores_list, \n",
    "         key = lambda score : score[3], \n",
    "         reverse = True)"
   ]
  },
  {
   "cell_type": "code",
   "execution_count": 3,
   "metadata": {},
   "outputs": [
    {
     "name": "stdout",
     "output_type": "stream",
     "text": [
      "ans:  [('Tony', 80, 80, 160), ('Mary', 70, 85, 155), ('Tina', 60, 70, 130)]\n"
     ]
    }
   ],
   "source": [
    "print('ans: ', sorted_scores_list)"
   ]
  },
  {
   "cell_type": "markdown",
   "metadata": {},
   "source": [
    "# #4"
   ]
  },
  {
   "cell_type": "code",
   "execution_count": 4,
   "metadata": {},
   "outputs": [],
   "source": [
    "# 算出 （N!）\n",
    "def GetFactorial(N) -> int:\n",
    "    \n",
    "    output = 1\n",
    "    \n",
    "    for i in range(1, N + 1):\n",
    "        \n",
    "        output *= i\n",
    "        \n",
    "        print(output)"
   ]
  },
  {
   "cell_type": "code",
   "execution_count": 5,
   "metadata": {},
   "outputs": [
    {
     "name": "stdout",
     "output_type": "stream",
     "text": [
      "1\n",
      "2\n",
      "6\n",
      "24\n",
      "120\n",
      "720\n",
      "5040\n"
     ]
    }
   ],
   "source": [
    "GetFactorial(7)"
   ]
  },
  {
   "cell_type": "markdown",
   "metadata": {},
   "source": [
    "# #5"
   ]
  },
  {
   "cell_type": "code",
   "execution_count": 6,
   "metadata": {},
   "outputs": [],
   "source": [
    "def HtmlDecorator(html):\n",
    "    \n",
    "    html = \"</p>\" + html + \"</p>\"\n",
    "    \n",
    "    return html"
   ]
  },
  {
   "cell_type": "code",
   "execution_count": 7,
   "metadata": {},
   "outputs": [],
   "source": [
    "html = \"Hello,Claire\""
   ]
  },
  {
   "cell_type": "code",
   "execution_count": 8,
   "metadata": {},
   "outputs": [],
   "source": [
    "html = HtmlDecorator(html)"
   ]
  },
  {
   "cell_type": "code",
   "execution_count": 9,
   "metadata": {},
   "outputs": [
    {
     "name": "stdout",
     "output_type": "stream",
     "text": [
      "ans:  </p>Hello,Claire</p>\n"
     ]
    }
   ],
   "source": [
    "print('ans: ', html)"
   ]
  },
  {
   "cell_type": "markdown",
   "metadata": {},
   "source": [
    "# #6"
   ]
  },
  {
   "cell_type": "code",
   "execution_count": 10,
   "metadata": {},
   "outputs": [],
   "source": [
    "# Sum Up Consecutive Integers\n",
    "def Sum(n) -> int:\n",
    "    \n",
    "    output = 0\n",
    "    \n",
    "    for i in range(1, n + 1):\n",
    "        \n",
    "        output += i\n",
    "        \n",
    "    return output"
   ]
  },
  {
   "cell_type": "code",
   "execution_count": 11,
   "metadata": {},
   "outputs": [
    {
     "data": {
      "text/plain": [
       "55"
      ]
     },
     "execution_count": 11,
     "metadata": {},
     "output_type": "execute_result"
    }
   ],
   "source": [
    "Sum(10)"
   ]
  },
  {
   "cell_type": "markdown",
   "metadata": {},
   "source": [
    "# #7"
   ]
  },
  {
   "cell_type": "code",
   "execution_count": 12,
   "metadata": {},
   "outputs": [],
   "source": [
    "# Calculate Total Combination Possibilities \n",
    "def C(m, n):\n",
    "    \n",
    "    output = 1\n",
    "    \n",
    "    for i in range(0, n):\n",
    "        \n",
    "        output *= (m - i) / (1 + i)\n",
    "        \n",
    "    return output"
   ]
  },
  {
   "cell_type": "code",
   "execution_count": 13,
   "metadata": {},
   "outputs": [
    {
     "data": {
      "text/plain": [
       "120.0"
      ]
     },
     "execution_count": 13,
     "metadata": {},
     "output_type": "execute_result"
    }
   ],
   "source": [
    "C(10, 3)"
   ]
  },
  {
   "cell_type": "markdown",
   "metadata": {},
   "source": [
    "# 實作題"
   ]
  },
  {
   "cell_type": "markdown",
   "metadata": {},
   "source": [
    "# #1"
   ]
  },
  {
   "cell_type": "markdown",
   "metadata": {},
   "source": [
    "# #2"
   ]
  },
  {
   "cell_type": "code",
   "execution_count": 14,
   "metadata": {},
   "outputs": [
    {
     "data": {
      "text/plain": [
       "[1, 2, 24, 28, 30, 47]"
      ]
     },
     "execution_count": 14,
     "metadata": {},
     "output_type": "execute_result"
    }
   ],
   "source": [
    "import exlotto\n",
    "\n",
    "n = 48\n",
    "m = 6\n",
    "\n",
    "exlotto.DrawSortedLottoNumbers(n, m)"
   ]
  },
  {
   "cell_type": "markdown",
   "metadata": {},
   "source": [
    "# #3"
   ]
  },
  {
   "cell_type": "code",
   "execution_count": 15,
   "metadata": {},
   "outputs": [
    {
     "data": {
      "text/plain": [
       "[34, 36, 39, 42, 44, 47]"
      ]
     },
     "execution_count": 15,
     "metadata": {},
     "output_type": "execute_result"
    }
   ],
   "source": [
    "from exlotto import DrawSortedLottoNumbers\n",
    "\n",
    "n = 48\n",
    "m = 6\n",
    "\n",
    "exlotto.DrawSortedLottoNumbers(n, m)"
   ]
  },
  {
   "cell_type": "markdown",
   "metadata": {},
   "source": [
    "# #4"
   ]
  },
  {
   "cell_type": "code",
   "execution_count": 16,
   "metadata": {},
   "outputs": [
    {
     "data": {
      "text/plain": [
       "[1, 2, 7, 14, 38, 41]"
      ]
     },
     "execution_count": 16,
     "metadata": {},
     "output_type": "execute_result"
    }
   ],
   "source": [
    "import exlotto as el\n",
    "\n",
    "n = 48\n",
    "m = 6\n",
    "\n",
    "el.DrawSortedLottoNumbers(n, m)"
   ]
  },
  {
   "cell_type": "markdown",
   "metadata": {},
   "source": [
    "# #5"
   ]
  },
  {
   "cell_type": "code",
   "execution_count": 17,
   "metadata": {},
   "outputs": [],
   "source": [
    "from prize import *"
   ]
  },
  {
   "cell_type": "markdown",
   "metadata": {},
   "source": [
    "# #6"
   ]
  },
  {
   "cell_type": "code",
   "execution_count": 18,
   "metadata": {},
   "outputs": [
    {
     "data": {
      "text/plain": [
       "[5, 6, 29, 32, 40, 43]"
      ]
     },
     "execution_count": 18,
     "metadata": {},
     "output_type": "execute_result"
    }
   ],
   "source": [
    "# 抽樂透號碼\n",
    "from prize.exlotto import DrawSortedLottoNumbers\n",
    "n = 48\n",
    "m = 6\n",
    "DrawSortedLottoNumbers(n, m)"
   ]
  },
  {
   "cell_type": "code",
   "execution_count": 19,
   "metadata": {},
   "outputs": [
    {
     "data": {
      "text/plain": [
       "[19, 7, 23, 2, 23, 20, 44, 18]"
      ]
     },
     "execution_count": 19,
     "metadata": {},
     "output_type": "execute_result"
    }
   ],
   "source": [
    "# 抽發票號碼\n",
    "from prize.exreceipt import DrawReceiptNumbers\n",
    "n = 48\n",
    "m = 8\n",
    "DrawReceiptNumbers(n, m)"
   ]
  },
  {
   "cell_type": "markdown",
   "metadata": {},
   "source": [
    "# 黃鶴樓"
   ]
  },
  {
   "cell_type": "code",
   "execution_count": 20,
   "metadata": {},
   "outputs": [],
   "source": [
    "# Read the Poem\n",
    "poem = \"\"\n",
    "\n",
    "path = 'poem.txt'\n",
    "with open(path) as f:\n",
    "    \n",
    "    for line in f.readlines():\n",
    "        \n",
    "        poem += line"
   ]
  },
  {
   "cell_type": "code",
   "execution_count": 21,
   "metadata": {},
   "outputs": [
    {
     "data": {
      "text/plain": [
       "'昔人已乘黃鶴去，此地空余黃鶴樓。黃鶴一去不復返，白雲千載空悠悠'"
      ]
     },
     "execution_count": 21,
     "metadata": {},
     "output_type": "execute_result"
    }
   ],
   "source": [
    "poem"
   ]
  },
  {
   "cell_type": "code",
   "execution_count": 22,
   "metadata": {},
   "outputs": [],
   "source": [
    "# Count the Frequency by a Dictionary\n",
    "from collections import Counter\n",
    "char_counter = Counter(list(poem))\n",
    "char_counter = dict(char_counter)"
   ]
  },
  {
   "cell_type": "code",
   "execution_count": 23,
   "metadata": {},
   "outputs": [],
   "source": [
    "# Remove Punctuations\n",
    "punctuation_set = {\"，\", \"。\", \"!\", \"？\"}\n",
    "\n",
    "# Transform the Counter to a List\n",
    "char_counter_list = []\n",
    "\n",
    "for c in char_counter:\n",
    "\n",
    "    if c not in punctuation_set:\n",
    "\n",
    "        char_counter_list += [(c, char_counter[c])]\n"
   ]
  },
  {
   "cell_type": "code",
   "execution_count": 24,
   "metadata": {},
   "outputs": [
    {
     "data": {
      "text/plain": [
       "[('黃', 3),\n",
       " ('鶴', 3),\n",
       " ('去', 2),\n",
       " ('空', 2),\n",
       " ('悠', 2),\n",
       " ('昔', 1),\n",
       " ('人', 1),\n",
       " ('已', 1),\n",
       " ('乘', 1),\n",
       " ('此', 1),\n",
       " ('地', 1),\n",
       " ('余', 1),\n",
       " ('樓', 1),\n",
       " ('一', 1),\n",
       " ('不', 1),\n",
       " ('復', 1),\n",
       " ('返', 1),\n",
       " ('白', 1),\n",
       " ('雲', 1),\n",
       " ('千', 1),\n",
       " ('載', 1)]"
      ]
     },
     "execution_count": 24,
     "metadata": {},
     "output_type": "execute_result"
    }
   ],
   "source": [
    "# Sort the List by Its Frequency\n",
    "char_counter_list = sorted(char_counter_list, key = lambda i: i[1], reverse = True)\n",
    "\n",
    "# Print the Answer\n",
    "char_counter_list"
   ]
  },
  {
   "cell_type": "code",
   "execution_count": 25,
   "metadata": {},
   "outputs": [],
   "source": [
    "# Convert the List to a DataFrame for the Convenience of Saving a csv File\n",
    "import pandas as pd\n",
    "char_counter_dict = dict(char_counter_list)\n",
    "char_counter_df = pd.DataFrame(list(char_counter_dict.items()), columns = [\"char\", \"freq\"])"
   ]
  },
  {
   "cell_type": "code",
   "execution_count": 26,
   "metadata": {},
   "outputs": [],
   "source": [
    "# Save the DataFrame to a csv\n",
    "char_counter_df.to_csv(\"ex3-poem.csv\")"
   ]
  }
 ],
 "metadata": {
  "kernelspec": {
   "display_name": "Python 3",
   "language": "python",
   "name": "python3"
  },
  "language_info": {
   "codemirror_mode": {
    "name": "ipython",
    "version": 3
   },
   "file_extension": ".py",
   "mimetype": "text/x-python",
   "name": "python",
   "nbconvert_exporter": "python",
   "pygments_lexer": "ipython3",
   "version": "3.8.3"
  }
 },
 "nbformat": 4,
 "nbformat_minor": 4
}
