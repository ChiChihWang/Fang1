{
 "cells": [
  {
   "cell_type": "markdown",
   "id": "682462ba",
   "metadata": {},
   "source": [
    "# 0) Install Package if You Never Use Yahoo API Before"
   ]
  },
  {
   "cell_type": "code",
   "execution_count": null,
   "id": "f4c90ae6",
   "metadata": {},
   "outputs": [],
   "source": [
    "# Import Finance Pacakge __________\n",
    "# %pip install yfinance\n",
    "# %pip install Backtesting\n",
    "# %pip install talib-binary\n",
    "# %pip install mpl-finance\n",
    "# %pip install yfinance --upgrade --no-cache-dir\n",
    "# %pip install yfinance -U"
   ]
  },
  {
   "cell_type": "markdown",
   "id": "2eda58d0",
   "metadata": {},
   "source": [
    "# 1) Import Data Reader"
   ]
  },
  {
   "cell_type": "code",
   "execution_count": 1,
   "id": "c523a076",
   "metadata": {},
   "outputs": [],
   "source": [
    "from DataReader import *\n",
    "%load_ext autoreload\n",
    "%autoreload 2"
   ]
  },
  {
   "cell_type": "code",
   "execution_count": 17,
   "id": "7c24aa53",
   "metadata": {},
   "outputs": [
    {
     "data": {
      "text/html": [
       "<div>\n",
       "<style scoped>\n",
       "    .dataframe tbody tr th:only-of-type {\n",
       "        vertical-align: middle;\n",
       "    }\n",
       "\n",
       "    .dataframe tbody tr th {\n",
       "        vertical-align: top;\n",
       "    }\n",
       "\n",
       "    .dataframe thead th {\n",
       "        text-align: right;\n",
       "    }\n",
       "</style>\n",
       "<table border=\"1\" class=\"dataframe\">\n",
       "  <thead>\n",
       "    <tr style=\"text-align: right;\">\n",
       "      <th></th>\n",
       "      <th>Open</th>\n",
       "      <th>High</th>\n",
       "      <th>Low</th>\n",
       "      <th>Close</th>\n",
       "      <th>Volume</th>\n",
       "      <th>Dividends</th>\n",
       "      <th>Stock splits</th>\n",
       "    </tr>\n",
       "    <tr>\n",
       "      <th>Date</th>\n",
       "      <th></th>\n",
       "      <th></th>\n",
       "      <th></th>\n",
       "      <th></th>\n",
       "      <th></th>\n",
       "      <th></th>\n",
       "      <th></th>\n",
       "    </tr>\n",
       "  </thead>\n",
       "  <tbody>\n",
       "    <tr>\n",
       "      <th>2023-04-17</th>\n",
       "      <td>191.5</td>\n",
       "      <td>192.0</td>\n",
       "      <td>180.5</td>\n",
       "      <td>180.5</td>\n",
       "      <td>17890624</td>\n",
       "      <td>0</td>\n",
       "      <td>0</td>\n",
       "    </tr>\n",
       "    <tr>\n",
       "      <th>2023-04-18</th>\n",
       "      <td>184.5</td>\n",
       "      <td>186.5</td>\n",
       "      <td>176.0</td>\n",
       "      <td>177.5</td>\n",
       "      <td>4937956</td>\n",
       "      <td>0</td>\n",
       "      <td>0</td>\n",
       "    </tr>\n",
       "    <tr>\n",
       "      <th>2023-04-19</th>\n",
       "      <td>178.0</td>\n",
       "      <td>185.0</td>\n",
       "      <td>178.0</td>\n",
       "      <td>181.0</td>\n",
       "      <td>5806031</td>\n",
       "      <td>0</td>\n",
       "      <td>0</td>\n",
       "    </tr>\n",
       "    <tr>\n",
       "      <th>2023-04-20</th>\n",
       "      <td>181.0</td>\n",
       "      <td>184.5</td>\n",
       "      <td>172.0</td>\n",
       "      <td>174.0</td>\n",
       "      <td>4358700</td>\n",
       "      <td>0</td>\n",
       "      <td>0</td>\n",
       "    </tr>\n",
       "    <tr>\n",
       "      <th>2023-04-21</th>\n",
       "      <td>173.5</td>\n",
       "      <td>176.0</td>\n",
       "      <td>169.5</td>\n",
       "      <td>170.5</td>\n",
       "      <td>2701505</td>\n",
       "      <td>0</td>\n",
       "      <td>0</td>\n",
       "    </tr>\n",
       "  </tbody>\n",
       "</table>\n",
       "</div>"
      ],
      "text/plain": [
       "             Open   High    Low  Close    Volume  Dividends  Stock splits\n",
       "Date                                                                     \n",
       "2023-04-17  191.5  192.0  180.5  180.5  17890624          0             0\n",
       "2023-04-18  184.5  186.5  176.0  177.5   4937956          0             0\n",
       "2023-04-19  178.0  185.0  178.0  181.0   5806031          0             0\n",
       "2023-04-20  181.0  184.5  172.0  174.0   4358700          0             0\n",
       "2023-04-21  173.5  176.0  169.5  170.5   2701505          0             0"
      ]
     },
     "execution_count": 17,
     "metadata": {},
     "output_type": "execute_result"
    }
   ],
   "source": [
    "stock_id = \"2731.TW\"\n",
    "start_date = \"2023-01-01\"\n",
    "stock_info = GetHistoricalData(stock_id, start_date)\n",
    "stock_info.tail()"
   ]
  },
  {
   "cell_type": "code",
   "execution_count": null,
   "id": "4573fb3e",
   "metadata": {},
   "outputs": [],
   "source": []
  },
  {
   "cell_type": "code",
   "execution_count": null,
   "id": "3cc9aca2",
   "metadata": {},
   "outputs": [],
   "source": []
  },
  {
   "cell_type": "code",
   "execution_count": null,
   "id": "f77ec721",
   "metadata": {},
   "outputs": [],
   "source": []
  },
  {
   "cell_type": "code",
   "execution_count": null,
   "id": "a9994b41",
   "metadata": {},
   "outputs": [],
   "source": []
  }
 ],
 "metadata": {
  "kernelspec": {
   "display_name": "Python 3 (ipykernel)",
   "language": "python",
   "name": "python3"
  },
  "language_info": {
   "codemirror_mode": {
    "name": "ipython",
    "version": 3
   },
   "file_extension": ".py",
   "mimetype": "text/x-python",
   "name": "python",
   "nbconvert_exporter": "python",
   "pygments_lexer": "ipython3",
   "version": "3.9.13"
  }
 },
 "nbformat": 4,
 "nbformat_minor": 5
}
