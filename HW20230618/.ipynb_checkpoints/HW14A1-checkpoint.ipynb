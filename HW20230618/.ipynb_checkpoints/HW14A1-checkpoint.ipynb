{
 "cells": [
  {
   "cell_type": "markdown",
   "id": "b83aada5",
   "metadata": {},
   "source": [
    "# Q1：k從2到10中，當k=多少時訓練集與測試集準確值最接近100%\n",
    "# 請依照下方格式自行補充程式碼\n",
    "\n",
    "#匯入資料\n",
    "from IrisData import dataFrame\n",
    "df = dataFrame()\n",
    "df_X = df[['SepalLengthCm','SepalWidthCm','PetalLengthCm','PetalWidthCm']]\n",
    "df_y = df['Species']\n",
    "\n",
    "\n",
    "def max_k_accuracy() :\n",
    "    #1. 匯入套件包\n",
    "    #from sklearn....(自行補充)\n",
    "\n",
    "    #2. 切割數據 測試集佔20%\n",
    "    #X_train, X_test, y_train, y_test = ...(自行補充)\n",
    "\n",
    "    #3. KNN\n",
    "    #k = ...(自行補充)\n",
    "\n",
    "    #訓練集預測成功的比例\n",
    "    #accuracy_train = ...(自行補充)\n",
    "\n",
    "    #測試集預測成功的比例\n",
    "    #accuracy_test = ...(自行補充)\n",
    "\n",
    "    ans = [k, accuracy_train, accuracy_test]\n",
    "\n",
    "    return ans"
   ]
  },
  {
   "cell_type": "code",
   "execution_count": 7,
   "id": "5e2f62bc",
   "metadata": {},
   "outputs": [
    {
     "name": "stdout",
     "output_type": "stream",
     "text": [
      "最接近 100% 準確度的 k 值： 7\n",
      "訓練集準確度： 0.975\n",
      "測試集準確度： 0.9666666666666667\n"
     ]
    }
   ],
   "source": [
    "# 匯入資料\n",
    "from sklearn.datasets import load_iris\n",
    "from sklearn.model_selection import train_test_split\n",
    "from sklearn.neighbors import KNeighborsClassifier\n",
    "\n",
    "# 載入 Iris 資料集\n",
    "iris = load_iris()\n",
    "X = iris.data\n",
    "y = iris.target\n",
    "\n",
    "def max_k_accuracy():\n",
    "    accuracies_train = []\n",
    "    accuracies_test = []\n",
    "\n",
    "    # 測試 k 從 2 到 10 的情況\n",
    "    for k in range(2, 11):\n",
    "        # 切割數據，測試集佔 20%\n",
    "        X_train, X_test, y_train, y_test = train_test_split(X, y, test_size=0.2, random_state=42)\n",
    "\n",
    "        # KNN\n",
    "        knn = KNeighborsClassifier(n_neighbors=k)\n",
    "        knn.fit(X_train, y_train)\n",
    "\n",
    "        # 訓練集預測成功的比例\n",
    "        accuracy_train = knn.score(X_train, y_train)\n",
    "        accuracies_train.append(accuracy_train)\n",
    "\n",
    "        # 測試集預測成功的比例\n",
    "        accuracy_test = knn.score(X_test, y_test)\n",
    "        accuracies_test.append(accuracy_test)\n",
    "\n",
    "    # 找到最接近 100% 準確度的 k\n",
    "    max_accuracy_diff = 100\n",
    "    max_k = None\n",
    "    for k, acc_train, acc_test in zip(range(2, 11), accuracies_train, accuracies_test):\n",
    "        accuracy_diff = abs(acc_train - acc_test)\n",
    "        if accuracy_diff < max_accuracy_diff:\n",
    "            max_accuracy_diff = accuracy_diff\n",
    "            max_k = k\n",
    "\n",
    "    ans = [max_k, accuracies_train[max_k - 2], accuracies_test[max_k - 2]]\n",
    "    return ans\n",
    "\n",
    "result = max_k_accuracy()\n",
    "print(\"最接近 100% 準確度的 k 值：\", result[0])\n",
    "print(\"訓練集準確度：\", result[1])\n",
    "print(\"測試集準確度：\", result[2])\n"
   ]
  }
 ],
 "metadata": {
  "kernelspec": {
   "display_name": "Python 3 (ipykernel)",
   "language": "python",
   "name": "python3"
  },
  "language_info": {
   "codemirror_mode": {
    "name": "ipython",
    "version": 3
   },
   "file_extension": ".py",
   "mimetype": "text/x-python",
   "name": "python",
   "nbconvert_exporter": "python",
   "pygments_lexer": "ipython3",
   "version": "3.9.13"
  }
 },
 "nbformat": 4,
 "nbformat_minor": 5
}
