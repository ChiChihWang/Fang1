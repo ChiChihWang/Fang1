{
 "cells": [
  {
   "cell_type": "markdown",
   "id": "6ddfadd0",
   "metadata": {},
   "source": [
    "# Q2：k從1到15中，當k=多少時的到交叉驗證平均值最高\n",
    "# 請依照下方格式自行補充程式碼\n",
    "\n",
    "#匯入資料\n",
    "from IrisData import dataFrame\n",
    "df = dataFrame()\n",
    "df_X = df[['SepalLengthCm','SepalWidthCm','PetalLengthCm','PetalWidthCm']]\n",
    "df_y = df['Species']\n",
    "\n",
    "\n",
    "def cross_validation() :\n",
    "    #1. 匯入套件包\n",
    "    #from sklearn....(自行補充)\n",
    "\n",
    "    #2. KNN\n",
    "    #k = ...(自行補充)\n",
    "\n",
    "    #3. 交叉驗證 組數10組、方法accuracy\n",
    "    #scores = ...(自行補充)\n",
    "\n",
    "    #驗證結果依序為平均值、最大值、最小值，請將非整數結果取到小數點第2位，整數取到整數位\n",
    "    #scores_avg = ...(自行補充)\n",
    "    #scores_max = ...(自行補充)\n",
    "    #scores_min = ...(自行補充)\n",
    "\n",
    "    return k, scores_avg, scores_max, scores_min"
   ]
  },
  {
   "cell_type": "code",
   "execution_count": 1,
   "id": "f553ea67",
   "metadata": {},
   "outputs": [
    {
     "name": "stdout",
     "output_type": "stream",
     "text": [
      "交叉驗證平均值最高的 k 值： 13\n",
      "平均值： 0.98\n",
      "最大值： 1.0\n",
      "最小值： 0.93\n"
     ]
    }
   ],
   "source": [
    "# 匯入資料\n",
    "from sklearn.datasets import load_iris\n",
    "\n",
    "# 載入 Iris 資料集\n",
    "iris = load_iris()\n",
    "X = iris.data\n",
    "y = iris.target\n",
    "\n",
    "def cross_validation():\n",
    "    \n",
    "    from sklearn.model_selection import cross_val_score\n",
    "    from sklearn.neighbors import KNeighborsClassifier\n",
    "\n",
    "    accuracies = []\n",
    "    \n",
    "    # 測試 k 從 1 到 15 的情況\n",
    "    for k in range(1, 16):\n",
    "        # KNN\n",
    "        knn = KNeighborsClassifier(n_neighbors=k)\n",
    "        \n",
    "        # 交叉驗證，組數 10 組，方法 accuracy\n",
    "        scores = cross_val_score(knn, X, y, cv=10, scoring='accuracy')\n",
    "        \n",
    "        # 平均值、最大值、最小值\n",
    "        scores_avg = round(scores.mean(), 2)\n",
    "        scores_max = round(scores.max(), 2)\n",
    "        scores_min = round(scores.min(), 2)\n",
    "        \n",
    "        accuracies.append((k, scores_avg, scores_max, scores_min))\n",
    "    \n",
    "    # 找到交叉驗證平均值最高的 k\n",
    "    max_avg = 0\n",
    "    max_k = None\n",
    "    for k, avg, _, _ in accuracies:\n",
    "        if avg > max_avg:\n",
    "            max_avg = avg\n",
    "            max_k = k\n",
    "    \n",
    "    return accuracies[max_k - 1]\n",
    "\n",
    "result = cross_validation()\n",
    "print(\"交叉驗證平均值最高的 k 值：\", result[0])\n",
    "print(\"平均值：\", result[1])\n",
    "print(\"最大值：\", result[2])\n",
    "print(\"最小值：\", result[3])\n"
   ]
  }
 ],
 "metadata": {
  "kernelspec": {
   "display_name": "Python 3 (ipykernel)",
   "language": "python",
   "name": "python3"
  },
  "language_info": {
   "codemirror_mode": {
    "name": "ipython",
    "version": 3
   },
   "file_extension": ".py",
   "mimetype": "text/x-python",
   "name": "python",
   "nbconvert_exporter": "python",
   "pygments_lexer": "ipython3",
   "version": "3.9.13"
  }
 },
 "nbformat": 4,
 "nbformat_minor": 5
}
